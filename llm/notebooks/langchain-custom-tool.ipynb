{
 "cells": [
  {
   "cell_type": "markdown",
   "id": "824de307",
   "metadata": {},
   "source": [
    "# Langchain Agent with custom tool\n",
    "- Retrieve information from Weather API and use LLM to process the answer;\n",
    "- Use Gradio as WebUI."
   ]
  },
  {
   "cell_type": "code",
   "execution_count": 7,
   "id": "8db00e6e",
   "metadata": {},
   "outputs": [],
   "source": [
    "import os\n",
    "from dotenv import load_dotenv\n",
    "import gradio as gr\n",
    "import requests\n",
    "from typing import Dict, Any"
   ]
  },
  {
   "cell_type": "code",
   "execution_count": 8,
   "id": "c8527949",
   "metadata": {},
   "outputs": [],
   "source": [
    "# Langchain imports\n",
    "from langchain.agents import AgentExecutor, create_openai_tools_agent\n",
    "from langchain_community.chat_message_histories import ChatMessageHistory\n",
    "from langchain_core.runnables.history import RunnableWithMessageHistory\n",
    "from langchain_google_genai import ChatGoogleGenerativeAI\n",
    "from langchain.tools import tool\n",
    "from langchain_core.prompts import ChatPromptTemplate, MessagesPlaceholder"
   ]
  },
  {
   "cell_type": "markdown",
   "id": "ebbdaf22",
   "metadata": {},
   "source": [
    "### Setup model and load env variables"
   ]
  },
  {
   "cell_type": "code",
   "execution_count": 9,
   "id": "99bf24fa",
   "metadata": {},
   "outputs": [],
   "source": [
    "MODEL = 'gemini-2.0-flash'\n",
    "\n",
    "# Load environment variables from .env file\n",
    "load_dotenv(override=True)\n",
    "GOOGLE_GEMINI_KEY = os.environ['GOOGLEAI_API_KEY']\n",
    "WEATHER_API_KEY = os.environ['WEATHER_API_KEY'] # https://www.weatherapi.com/"
   ]
  },
  {
   "cell_type": "markdown",
   "id": "ee435a4e",
   "metadata": {},
   "source": [
    "### Setup tools"
   ]
  },
  {
   "cell_type": "code",
   "execution_count": 10,
   "id": "c29abd57",
   "metadata": {},
   "outputs": [],
   "source": [
    "@tool\n",
    "def get_weather(location: str) -> Dict[str, Any]:\n",
    "    \"\"\"Check the current weather conditions for a specific city.\"\"\"\n",
    "    url = f'http://api.weatherapi.com/v1/current.json?key={WEATHER_API_KEY}&q={location}&aqi=no'\n",
    "    response = requests.get(url)\n",
    "    if response.ok:\n",
    "        data = response.json()\n",
    "        # Return structured weather data\n",
    "        return {\n",
    "            'city': location,\n",
    "            'temperature': data['current']['temp_c'],\n",
    "            'unidade': 'Celsius',\n",
    "            'condition': data['current']['condition']['text'],\n",
    "            'humidity': data['current']['humidity'],\n",
    "            'wind_kph': data['current']['gust_kph'],\n",
    "            'is_day': data['current']['is_day'],\n",
    "        }\n",
    "    else:\n",
    "        return f\"Could not retrieve weather data for {location}.\"   \n",
    "\n",
    "tools = [get_weather]"
   ]
  },
  {
   "cell_type": "markdown",
   "id": "8be18ec3",
   "metadata": {},
   "source": [
    "### Create agent (Gemini)"
   ]
  },
  {
   "cell_type": "code",
   "execution_count": 11,
   "id": "926f3193",
   "metadata": {},
   "outputs": [],
   "source": [
    "# Setup LLM model (Gemini)\n",
    "llm = ChatGoogleGenerativeAI(\n",
    "    model=MODEL,\n",
    "    google_api_key=GOOGLE_GEMINI_KEY,\n",
    "    temperature=0.7\n",
    ")\n",
    "\n",
    "# Agent prompt\n",
    "prompt = ChatPromptTemplate.from_messages([\n",
    "    (\"system\", \"\"\"You are a friendly and informative weather assistant.\n",
    "    \n",
    "    Your role is to help users get information about the weather in different cities.\n",
    "      \n",
    "    When the user asks about the weather in a city, use the available tool to query the weather data.\n",
    "      \n",
    "    IMPORTANT: The tool returns raw data in a structured format. You should create a natural and conversational response based on this data.\n",
    "    Vary the format of your responses to make them more natural and personalized. Based on the weather, you can add relevant suggestions \n",
    "    (such as dressing appropriately, taking an umbrella, enjoying the sunny day, etc.). Use natural and friendly language.\n",
    "      \n",
    "    Examples of how you can vary your responses:\n",
    "    - \"It's 25°C in São Paulo today, with sunny skies and 60% humidity. A perfect day for outdoor activities!\"\n",
    "    - \"In Lisbon right now: 18°C ​​with cloudy conditions. Humidity is at 75% and the wind is at 12km/h. You might want to bring a light jacket.\"\n",
    "    - \"The weather in New York is rainy right now. The temperature is 15°C with 85% humidity. Don't forget your umbrella!\"\n",
    "    \n",
    "    Be polite, helpful, and provide information naturally.\"\"\"),\n",
    "    MessagesPlaceholder(variable_name=\"chat_history\"),\n",
    "    (\"human\", \"{input}\"),\n",
    "    MessagesPlaceholder(variable_name=\"agent_scratchpad\")\n",
    "])\n",
    "\n",
    "# Create the agent executor\n",
    "agent = create_openai_tools_agent(llm, tools, prompt)\n",
    "agent_executor = AgentExecutor(\n",
    "    agent=agent,\n",
    "    tools=tools,\n",
    "    verbose=True,\n",
    ")"
   ]
  },
  {
   "cell_type": "markdown",
   "id": "75d2acda",
   "metadata": {},
   "source": [
    "### Setup message history"
   ]
  },
  {
   "cell_type": "code",
   "execution_count": 12,
   "id": "52c2d140",
   "metadata": {},
   "outputs": [],
   "source": [
    "# Setup message history\n",
    "# This will store the chat history for each session\n",
    "message_histories = {}\n",
    "\n",
    "# The message history will be stored in a dictionary with session_id as the key\n",
    "def get_session_history(session_id: str) -> ChatMessageHistory:\n",
    "    if session_id not in message_histories:\n",
    "        message_histories[session_id] = ChatMessageHistory()\n",
    "    return message_histories[session_id]\n",
    "\n",
    "# Configuring the agent executor to use message history\n",
    "agent_with_chat_history = RunnableWithMessageHistory(\n",
    "    agent_executor,\n",
    "    get_session_history,\n",
    "    input_messages_key=\"input\",\n",
    "    history_messages_key=\"chat_history\",\n",
    ")\n",
    "\n",
    "# Function for Gradio to process messages\n",
    "def chat(message, history, session_id: str = None):\n",
    "    response = agent_with_chat_history.invoke(\n",
    "        {\"input\": message},\n",
    "        config={\"configurable\": {\"session_id\": session_id}}\n",
    "    )\n",
    "    return response[\"output\"]\n",
    "\n",
    "# Prompt examples for the Gradio interface\n",
    "examples = [\n",
    "    [\"How is the weather in São Paulo?\", \"default\"],\n",
    "    [\"What is the temperature in Lisbon?\", \"default\"],\n",
    "    [\"I need to know the weather in New York\", \"default\"],\n",
    "    [\"Is it raining in Tokyo?\", \"default\"]\n",
    "]"
   ]
  },
  {
   "cell_type": "markdown",
   "id": "31a764d6",
   "metadata": {},
   "source": [
    "### Start Gradio Chat UI"
   ]
  },
  {
   "cell_type": "code",
   "execution_count": null,
   "id": "6eb96f2c",
   "metadata": {},
   "outputs": [
    {
     "name": "stdout",
     "output_type": "stream",
     "text": [
      "* Running on local URL:  http://127.0.0.1:7860\n",
      "* To create a public link, set `share=True` in `launch()`.\n"
     ]
    },
    {
     "data": {
      "text/html": [
       "<div><iframe src=\"http://127.0.0.1:7860/\" width=\"100%\" height=\"500\" allow=\"autoplay; camera; microphone; clipboard-read; clipboard-write;\" frameborder=\"0\" allowfullscreen></iframe></div>"
      ],
      "text/plain": [
       "<IPython.core.display.HTML object>"
      ]
     },
     "metadata": {},
     "output_type": "display_data"
    },
    {
     "name": "stdout",
     "output_type": "stream",
     "text": [
      "\n",
      "\n",
      "\u001b[1m> Entering new AgentExecutor chain...\u001b[0m\n",
      "\u001b[32;1m\u001b[1;3m\n",
      "Invoking: `get_weather` with `{'location': 'São Paulo'}`\n",
      "\n",
      "\n",
      "\u001b[0m\u001b[36;1m\u001b[1;3m{'city': 'São Paulo', 'temperature': 27.3, 'unidade': 'Celsius', 'condition': 'Sunny', 'humidity': 54, 'wind_kph': 17.3, 'is_day': 1}\u001b[0m\u001b[32;1m\u001b[1;3mIt's 27.3°C in São Paulo today, with sunny skies and 54% humidity. The wind is at 17.3 km/h. A perfect day for outdoor activities!\n",
      "\u001b[0m\n",
      "\n",
      "\u001b[1m> Finished chain.\u001b[0m\n"
     ]
    }
   ],
   "source": [
    "# Start Gradio interface\n",
    "demo = gr.ChatInterface(\n",
    "    theme=\"soft\",\n",
    "    fn=chat,\n",
    "    title=\"Weather Assistant\",\n",
    "    description=\"Ask about the weather in any city! (Example: 'What's the weather like in Buenos Aires?')\",\n",
    "    examples=examples,\n",
    "    additional_inputs=[gr.Textbox(value=\"default\", visible=True, label=\"Session ID\")],\n",
    "    type=\"messages\"\n",
    ").launch(inbrowser=True)"
   ]
  }
 ],
 "metadata": {
  "kernelspec": {
   "display_name": "ai-env",
   "language": "python",
   "name": "python3"
  },
  "language_info": {
   "codemirror_mode": {
    "name": "ipython",
    "version": 3
   },
   "file_extension": ".py",
   "mimetype": "text/x-python",
   "name": "python",
   "nbconvert_exporter": "python",
   "pygments_lexer": "ipython3",
   "version": "3.10.17"
  }
 },
 "nbformat": 4,
 "nbformat_minor": 5
}
